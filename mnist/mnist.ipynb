{
  "nbformat": 4,
  "nbformat_minor": 0,
  "metadata": {
    "colab": {
      "name": "HW_mnist.ipynb",
      "provenance": [],
      "collapsed_sections": []
    },
    "kernelspec": {
      "display_name": "Python 3",
      "language": "python",
      "name": "python3"
    },
    "language_info": {
      "codemirror_mode": {
        "name": "ipython",
        "version": 3
      },
      "file_extension": ".py",
      "mimetype": "text/x-python",
      "name": "python",
      "nbconvert_exporter": "python",
      "pygments_lexer": "ipython3",
      "version": "3.6.4"
    },
    "accelerator": "GPU"
  },
  "cells": [
    {
      "cell_type": "markdown",
      "metadata": {
        "id": "cYG8xzuLr-HI"
      },
      "source": [
        "# Excercse MNIST\n",
        "1. complete the training process\n",
        "2. Get the MAX accuracy and MIN loss of your final model"
      ]
    },
    {
      "cell_type": "code",
      "metadata": {
        "id": "7JqIcnWvwMpc"
      },
      "source": [
        "import tensorflow as tf\n",
        "from tensorflow.keras import datasets, models, layers, utils, activations, losses, optimizers, metrics\n",
        "import numpy as np\n",
        "import matplotlib.pyplot as plt\n",
        "import pandas as pd"
      ],
      "execution_count": 25,
      "outputs": []
    },
    {
      "cell_type": "code",
      "metadata": {
        "id": "4LsiyFhmR_2N",
        "colab": {
          "base_uri": "https://localhost:8080/",
          "height": 35
        },
        "outputId": "45fcd4da-3f18-4507-b3f7-74c663cfbed1"
      },
      "source": [
        "tf.__version__"
      ],
      "execution_count": 26,
      "outputs": [
        {
          "output_type": "execute_result",
          "data": {
            "application/vnd.google.colaboratory.intrinsic+json": {
              "type": "string"
            },
            "text/plain": [
              "'2.5.0'"
            ]
          },
          "metadata": {
            "tags": []
          },
          "execution_count": 26
        }
      ]
    },
    {
      "cell_type": "code",
      "metadata": {
        "id": "gDg9Aq-aSCNF"
      },
      "source": [
        "# Define Parameters\n",
        "num_classes = 10\n",
        "img_size = 28"
      ],
      "execution_count": 27,
      "outputs": []
    },
    {
      "cell_type": "markdown",
      "metadata": {
        "id": "WXajqeGESoSn"
      },
      "source": [
        "#### Prepare Data"
      ]
    },
    {
      "cell_type": "code",
      "metadata": {
        "id": "s0PDCZGkwMpi",
        "colab": {
          "base_uri": "https://localhost:8080/"
        },
        "outputId": "7301ea56-1c4a-4bca-c498-9bb3304f94b7"
      },
      "source": [
        "# Load Data from file\n",
        "with np.load('mnist.npz', allow_pickle=True) as f:\n",
        "    \n",
        "    x_train, y_train = f['x_train'], f['y_train']\n",
        "    x_test = f['x_test']\n",
        "\n",
        "# Data shape\n",
        "x_train.shape, y_train.shape, x_test.shape"
      ],
      "execution_count": 28,
      "outputs": [
        {
          "output_type": "execute_result",
          "data": {
            "text/plain": [
              "((60000, 28, 28), (60000,), (10000, 28, 28))"
            ]
          },
          "metadata": {
            "tags": []
          },
          "execution_count": 28
        }
      ]
    },
    {
      "cell_type": "code",
      "metadata": {
        "colab": {
          "base_uri": "https://localhost:8080/"
        },
        "id": "QHAhmYzz23TZ",
        "outputId": "54d225fa-d98e-433f-a5b3-c7ee0b8c4516"
      },
      "source": [
        "# split dataset\n",
        "from sklearn.model_selection import train_test_split\n",
        "x_train, x_val, y_train, y_val = train_test_split(x_train, y_train, test_size=0.2)\n",
        "\n",
        "x_train.shape, x_val.shape, x_train.shape, x_val.shape"
      ],
      "execution_count": 29,
      "outputs": [
        {
          "output_type": "execute_result",
          "data": {
            "text/plain": [
              "((48000, 28, 28), (12000, 28, 28), (48000, 28, 28), (12000, 28, 28))"
            ]
          },
          "metadata": {
            "tags": []
          },
          "execution_count": 29
        }
      ]
    },
    {
      "cell_type": "code",
      "metadata": {
        "id": "r5LcWzCeU7oS",
        "colab": {
          "base_uri": "https://localhost:8080/"
        },
        "outputId": "191bb91f-b181-48a7-b7ff-289685736871"
      },
      "source": [
        "# Flatten img to a vector\n",
        "x_train = x_train.reshape(x_train.shape[0], -1)\n",
        "x_val = x_val.reshape(x_val.shape[0], -1)\n",
        "x_test = x_test.reshape(x_test.shape[0], -1)\n",
        "\n",
        "# noramlize\n",
        "x_train = x_train/255\n",
        "x_test = x_test/255\n",
        "\n",
        "# one hot encoding\n",
        "y_train = utils.to_categorical(y_train, num_classes=num_classes)\n",
        "y_val = utils.to_categorical(y_val, num_classes=num_classes)\n",
        "\n",
        "x_train.shape, x_val.shape, y_train.shape, y_val.shape"
      ],
      "execution_count": 30,
      "outputs": [
        {
          "output_type": "execute_result",
          "data": {
            "text/plain": [
              "((48000, 784), (12000, 784), (48000, 10), (12000, 10))"
            ]
          },
          "metadata": {
            "tags": []
          },
          "execution_count": 30
        }
      ]
    },
    {
      "cell_type": "markdown",
      "metadata": {
        "id": "8STKvep1eC4v"
      },
      "source": [
        "#### Build Model"
      ]
    },
    {
      "cell_type": "code",
      "metadata": {
        "id": "twIJqpl-wMpl"
      },
      "source": [
        "# Build your own model\n",
        "model = models.Sequential([\n",
        "               layers.Dense(units=64,activation='elu',input_shape=(img_size*img_size,)),\n",
        "               layers.Dense(units=64,activation='elu'),\n",
        "               layers.Dense(units=128,activation='elu'),\n",
        "               layers.Dense(num_classes,activation='softmax')\n",
        "])"
      ],
      "execution_count": 31,
      "outputs": []
    },
    {
      "cell_type": "code",
      "metadata": {
        "id": "wivbMuaEwMpp",
        "colab": {
          "base_uri": "https://localhost:8080/"
        },
        "outputId": "e11416ac-06ed-4418-9a71-0d626eeea8d3"
      },
      "source": [
        "model.summary()"
      ],
      "execution_count": 32,
      "outputs": [
        {
          "output_type": "stream",
          "text": [
            "Model: \"sequential_1\"\n",
            "_________________________________________________________________\n",
            "Layer (type)                 Output Shape              Param #   \n",
            "=================================================================\n",
            "dense_4 (Dense)              (None, 64)                50240     \n",
            "_________________________________________________________________\n",
            "dense_5 (Dense)              (None, 64)                4160      \n",
            "_________________________________________________________________\n",
            "dense_6 (Dense)              (None, 128)               8320      \n",
            "_________________________________________________________________\n",
            "dense_7 (Dense)              (None, 10)                1290      \n",
            "=================================================================\n",
            "Total params: 64,010\n",
            "Trainable params: 64,010\n",
            "Non-trainable params: 0\n",
            "_________________________________________________________________\n"
          ],
          "name": "stdout"
        }
      ]
    },
    {
      "cell_type": "markdown",
      "metadata": {
        "id": "vtOqbCgkd9PZ"
      },
      "source": [
        "#### Training"
      ]
    },
    {
      "cell_type": "code",
      "metadata": {
        "colab": {
          "base_uri": "https://localhost:8080/"
        },
        "id": "I14FT3bOQXgE",
        "outputId": "45a2ff93-7e2e-449b-f9ab-563c6aa4bf16"
      },
      "source": [
        "model.compile(optimizer=optimizers.Adam(),\n",
        "       loss=losses.categorical_crossentropy,\n",
        "       metrics=['accuracy'])\n",
        "\n",
        "logs = model.fit(x_train,y_train,\n",
        "          batch_size=500,\n",
        "          epochs=25,\n",
        "          verbose=1,\n",
        "          validation_data=(x_val,y_val))"
      ],
      "execution_count": 34,
      "outputs": [
        {
          "output_type": "stream",
          "text": [
            "Epoch 1/25\n",
            "96/96 [==============================] - 1s 8ms/step - loss: 0.0680 - accuracy: 0.9789 - val_loss: 56.6742 - val_accuracy: 0.7867\n",
            "Epoch 2/25\n",
            "96/96 [==============================] - 1s 10ms/step - loss: 0.0546 - accuracy: 0.9836 - val_loss: 49.7996 - val_accuracy: 0.8074\n",
            "Epoch 3/25\n",
            "96/96 [==============================] - 1s 6ms/step - loss: 0.0481 - accuracy: 0.9852 - val_loss: 60.7826 - val_accuracy: 0.7955\n",
            "Epoch 4/25\n",
            "96/96 [==============================] - 1s 6ms/step - loss: 0.0431 - accuracy: 0.9873 - val_loss: 70.5227 - val_accuracy: 0.7840\n",
            "Epoch 5/25\n",
            "96/96 [==============================] - 1s 10ms/step - loss: 0.0364 - accuracy: 0.9891 - val_loss: 87.2085 - val_accuracy: 0.7513\n",
            "Epoch 6/25\n",
            "96/96 [==============================] - 1s 7ms/step - loss: 0.0320 - accuracy: 0.9903 - val_loss: 87.8939 - val_accuracy: 0.7622\n",
            "Epoch 7/25\n",
            "96/96 [==============================] - 1s 6ms/step - loss: 0.0282 - accuracy: 0.9916 - val_loss: 100.8044 - val_accuracy: 0.7497\n",
            "Epoch 8/25\n",
            "96/96 [==============================] - 1s 6ms/step - loss: 0.0244 - accuracy: 0.9928 - val_loss: 109.6722 - val_accuracy: 0.7553\n",
            "Epoch 9/25\n",
            "96/96 [==============================] - 1s 6ms/step - loss: 0.0209 - accuracy: 0.9943 - val_loss: 120.6454 - val_accuracy: 0.7448\n",
            "Epoch 10/25\n",
            "96/96 [==============================] - 1s 6ms/step - loss: 0.0185 - accuracy: 0.9946 - val_loss: 135.3923 - val_accuracy: 0.7374\n",
            "Epoch 11/25\n",
            "96/96 [==============================] - 1s 10ms/step - loss: 0.0167 - accuracy: 0.9952 - val_loss: 159.0598 - val_accuracy: 0.7242\n",
            "Epoch 12/25\n",
            "96/96 [==============================] - 1s 7ms/step - loss: 0.0140 - accuracy: 0.9960 - val_loss: 143.0233 - val_accuracy: 0.7452\n",
            "Epoch 13/25\n",
            "96/96 [==============================] - 1s 7ms/step - loss: 0.0121 - accuracy: 0.9968 - val_loss: 165.7678 - val_accuracy: 0.7285\n",
            "Epoch 14/25\n",
            "96/96 [==============================] - 1s 7ms/step - loss: 0.0106 - accuracy: 0.9974 - val_loss: 168.6585 - val_accuracy: 0.7381\n",
            "Epoch 15/25\n",
            "96/96 [==============================] - 1s 7ms/step - loss: 0.0084 - accuracy: 0.9982 - val_loss: 181.4122 - val_accuracy: 0.7320\n",
            "Epoch 16/25\n",
            "96/96 [==============================] - 1s 7ms/step - loss: 0.0072 - accuracy: 0.9982 - val_loss: 154.5525 - val_accuracy: 0.7607\n",
            "Epoch 17/25\n",
            "96/96 [==============================] - 1s 10ms/step - loss: 0.0055 - accuracy: 0.9990 - val_loss: 191.6558 - val_accuracy: 0.7323\n",
            "Epoch 18/25\n",
            "96/96 [==============================] - 1s 7ms/step - loss: 0.0057 - accuracy: 0.9989 - val_loss: 155.6619 - val_accuracy: 0.7767\n",
            "Epoch 19/25\n",
            "96/96 [==============================] - 1s 10ms/step - loss: 0.0043 - accuracy: 0.9991 - val_loss: 190.8394 - val_accuracy: 0.7490\n",
            "Epoch 20/25\n",
            "96/96 [==============================] - 1s 7ms/step - loss: 0.0048 - accuracy: 0.9991 - val_loss: 170.0782 - val_accuracy: 0.7750\n",
            "Epoch 21/25\n",
            "96/96 [==============================] - 1s 7ms/step - loss: 0.0056 - accuracy: 0.9986 - val_loss: 212.7955 - val_accuracy: 0.7497\n",
            "Epoch 22/25\n",
            "96/96 [==============================] - 1s 10ms/step - loss: 0.0048 - accuracy: 0.9987 - val_loss: 205.9677 - val_accuracy: 0.7467\n",
            "Epoch 23/25\n",
            "96/96 [==============================] - 1s 10ms/step - loss: 0.0070 - accuracy: 0.9978 - val_loss: 212.4935 - val_accuracy: 0.7410\n",
            "Epoch 24/25\n",
            "96/96 [==============================] - 1s 7ms/step - loss: 0.0120 - accuracy: 0.9961 - val_loss: 221.9036 - val_accuracy: 0.7482\n",
            "Epoch 25/25\n",
            "96/96 [==============================] - 1s 7ms/step - loss: 0.0048 - accuracy: 0.9987 - val_loss: 222.0858 - val_accuracy: 0.7407\n"
          ],
          "name": "stdout"
        }
      ]
    },
    {
      "cell_type": "markdown",
      "metadata": {
        "id": "bLGijtIyzrf9"
      },
      "source": [
        "#### Generate file for Kaggle"
      ]
    },
    {
      "cell_type": "code",
      "metadata": {
        "colab": {
          "base_uri": "https://localhost:8080/",
          "height": 419
        },
        "id": "ZPX5mGWfzswS",
        "outputId": "28a25918-cc9d-44d0-d42e-692db4c2718b"
      },
      "source": [
        "# predict by your model\n",
        "predictions = model.predict(x_test)\n",
        "predictions = np.argmax(predictions, axis=-1)\n",
        "\n",
        "df = pd.DataFrame()\n",
        "df['Id'] = [str(i) for i in range(len(x_test))]\n",
        "df['Category'] = predictions\n",
        "df.to_csv('result.csv', index=None)\n",
        "df"
      ],
      "execution_count": 35,
      "outputs": [
        {
          "output_type": "execute_result",
          "data": {
            "text/html": [
              "<div>\n",
              "<style scoped>\n",
              "    .dataframe tbody tr th:only-of-type {\n",
              "        vertical-align: middle;\n",
              "    }\n",
              "\n",
              "    .dataframe tbody tr th {\n",
              "        vertical-align: top;\n",
              "    }\n",
              "\n",
              "    .dataframe thead th {\n",
              "        text-align: right;\n",
              "    }\n",
              "</style>\n",
              "<table border=\"1\" class=\"dataframe\">\n",
              "  <thead>\n",
              "    <tr style=\"text-align: right;\">\n",
              "      <th></th>\n",
              "      <th>Id</th>\n",
              "      <th>Category</th>\n",
              "    </tr>\n",
              "  </thead>\n",
              "  <tbody>\n",
              "    <tr>\n",
              "      <th>0</th>\n",
              "      <td>0</td>\n",
              "      <td>7</td>\n",
              "    </tr>\n",
              "    <tr>\n",
              "      <th>1</th>\n",
              "      <td>1</td>\n",
              "      <td>2</td>\n",
              "    </tr>\n",
              "    <tr>\n",
              "      <th>2</th>\n",
              "      <td>2</td>\n",
              "      <td>1</td>\n",
              "    </tr>\n",
              "    <tr>\n",
              "      <th>3</th>\n",
              "      <td>3</td>\n",
              "      <td>0</td>\n",
              "    </tr>\n",
              "    <tr>\n",
              "      <th>4</th>\n",
              "      <td>4</td>\n",
              "      <td>4</td>\n",
              "    </tr>\n",
              "    <tr>\n",
              "      <th>...</th>\n",
              "      <td>...</td>\n",
              "      <td>...</td>\n",
              "    </tr>\n",
              "    <tr>\n",
              "      <th>9995</th>\n",
              "      <td>9995</td>\n",
              "      <td>2</td>\n",
              "    </tr>\n",
              "    <tr>\n",
              "      <th>9996</th>\n",
              "      <td>9996</td>\n",
              "      <td>3</td>\n",
              "    </tr>\n",
              "    <tr>\n",
              "      <th>9997</th>\n",
              "      <td>9997</td>\n",
              "      <td>4</td>\n",
              "    </tr>\n",
              "    <tr>\n",
              "      <th>9998</th>\n",
              "      <td>9998</td>\n",
              "      <td>5</td>\n",
              "    </tr>\n",
              "    <tr>\n",
              "      <th>9999</th>\n",
              "      <td>9999</td>\n",
              "      <td>6</td>\n",
              "    </tr>\n",
              "  </tbody>\n",
              "</table>\n",
              "<p>10000 rows × 2 columns</p>\n",
              "</div>"
            ],
            "text/plain": [
              "        Id  Category\n",
              "0        0         7\n",
              "1        1         2\n",
              "2        2         1\n",
              "3        3         0\n",
              "4        4         4\n",
              "...    ...       ...\n",
              "9995  9995         2\n",
              "9996  9996         3\n",
              "9997  9997         4\n",
              "9998  9998         5\n",
              "9999  9999         6\n",
              "\n",
              "[10000 rows x 2 columns]"
            ]
          },
          "metadata": {
            "tags": []
          },
          "execution_count": 35
        }
      ]
    },
    {
      "cell_type": "code",
      "metadata": {
        "id": "guBMgShGz7jq"
      },
      "source": [
        ""
      ],
      "execution_count": null,
      "outputs": []
    }
  ]
}