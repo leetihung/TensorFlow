{
  "nbformat": 4,
  "nbformat_minor": 0,
  "metadata": {
    "colab": {
      "name": "HW-pneumonia_2.ipynb",
      "provenance": [],
      "collapsed_sections": []
    },
    "kernelspec": {
      "name": "python3",
      "display_name": "Python 3"
    },
    "language_info": {
      "name": "python"
    },
    "accelerator": "GPU",
    "widgets": {
      "application/vnd.jupyter.widget-state+json": {
        "d4895a1573284350aa49bccdf505d7c8": {
          "model_module": "@jupyter-widgets/controls",
          "model_name": "HBoxModel",
          "model_module_version": "1.5.0",
          "state": {
            "_view_name": "HBoxView",
            "_dom_classes": [],
            "_model_name": "HBoxModel",
            "_view_module": "@jupyter-widgets/controls",
            "_model_module_version": "1.5.0",
            "_view_count": null,
            "_view_module_version": "1.5.0",
            "box_style": "",
            "layout": "IPY_MODEL_a8f76a26b0ab4b8f8a5a9f5717e5a662",
            "_model_module": "@jupyter-widgets/controls",
            "children": [
              "IPY_MODEL_bd85dc8c4bd7496ea3b72e503046f279",
              "IPY_MODEL_bbe0476084404847a4fade8e320b33bb",
              "IPY_MODEL_dd52da057e5f440dab873b19c3822a10"
            ]
          }
        },
        "a8f76a26b0ab4b8f8a5a9f5717e5a662": {
          "model_module": "@jupyter-widgets/base",
          "model_name": "LayoutModel",
          "model_module_version": "1.2.0",
          "state": {
            "_view_name": "LayoutView",
            "grid_template_rows": null,
            "right": null,
            "justify_content": null,
            "_view_module": "@jupyter-widgets/base",
            "overflow": null,
            "_model_module_version": "1.2.0",
            "_view_count": null,
            "flex_flow": null,
            "width": null,
            "min_width": null,
            "border": null,
            "align_items": null,
            "bottom": null,
            "_model_module": "@jupyter-widgets/base",
            "top": null,
            "grid_column": null,
            "overflow_y": null,
            "overflow_x": null,
            "grid_auto_flow": null,
            "grid_area": null,
            "grid_template_columns": null,
            "flex": null,
            "_model_name": "LayoutModel",
            "justify_items": null,
            "grid_row": null,
            "max_height": null,
            "align_content": null,
            "visibility": null,
            "align_self": null,
            "height": null,
            "min_height": null,
            "padding": null,
            "grid_auto_rows": null,
            "grid_gap": null,
            "max_width": null,
            "order": null,
            "_view_module_version": "1.2.0",
            "grid_template_areas": null,
            "object_position": null,
            "object_fit": null,
            "grid_auto_columns": null,
            "margin": null,
            "display": null,
            "left": null
          }
        },
        "bd85dc8c4bd7496ea3b72e503046f279": {
          "model_module": "@jupyter-widgets/controls",
          "model_name": "HTMLModel",
          "model_module_version": "1.5.0",
          "state": {
            "_view_name": "HTMLView",
            "style": "IPY_MODEL_cd5352994ddc48e6b8c29b0003fbc535",
            "_dom_classes": [],
            "description": "",
            "_model_name": "HTMLModel",
            "placeholder": "​",
            "_view_module": "@jupyter-widgets/controls",
            "_model_module_version": "1.5.0",
            "value": "100%",
            "_view_count": null,
            "_view_module_version": "1.5.0",
            "description_tooltip": null,
            "_model_module": "@jupyter-widgets/controls",
            "layout": "IPY_MODEL_639a87b16d3a4b0e9bb09920b4d62dac"
          }
        },
        "bbe0476084404847a4fade8e320b33bb": {
          "model_module": "@jupyter-widgets/controls",
          "model_name": "FloatProgressModel",
          "model_module_version": "1.5.0",
          "state": {
            "_view_name": "ProgressView",
            "style": "IPY_MODEL_e0121729c91b49428599d76148af0a07",
            "_dom_classes": [],
            "description": "",
            "_model_name": "FloatProgressModel",
            "bar_style": "success",
            "max": 17,
            "_view_module": "@jupyter-widgets/controls",
            "_model_module_version": "1.5.0",
            "value": 17,
            "_view_count": null,
            "_view_module_version": "1.5.0",
            "orientation": "horizontal",
            "min": 0,
            "description_tooltip": null,
            "_model_module": "@jupyter-widgets/controls",
            "layout": "IPY_MODEL_eba9d2a2ccf144748ef820516ce3fade"
          }
        },
        "dd52da057e5f440dab873b19c3822a10": {
          "model_module": "@jupyter-widgets/controls",
          "model_name": "HTMLModel",
          "model_module_version": "1.5.0",
          "state": {
            "_view_name": "HTMLView",
            "style": "IPY_MODEL_91963429013f4840b6e5153bae73699d",
            "_dom_classes": [],
            "description": "",
            "_model_name": "HTMLModel",
            "placeholder": "​",
            "_view_module": "@jupyter-widgets/controls",
            "_model_module_version": "1.5.0",
            "value": " 17/17 [00:29&lt;00:00,  1.50s/it]",
            "_view_count": null,
            "_view_module_version": "1.5.0",
            "description_tooltip": null,
            "_model_module": "@jupyter-widgets/controls",
            "layout": "IPY_MODEL_a9a777c87a0e407594c8432087f159fc"
          }
        },
        "cd5352994ddc48e6b8c29b0003fbc535": {
          "model_module": "@jupyter-widgets/controls",
          "model_name": "DescriptionStyleModel",
          "model_module_version": "1.5.0",
          "state": {
            "_view_name": "StyleView",
            "_model_name": "DescriptionStyleModel",
            "description_width": "",
            "_view_module": "@jupyter-widgets/base",
            "_model_module_version": "1.5.0",
            "_view_count": null,
            "_view_module_version": "1.2.0",
            "_model_module": "@jupyter-widgets/controls"
          }
        },
        "639a87b16d3a4b0e9bb09920b4d62dac": {
          "model_module": "@jupyter-widgets/base",
          "model_name": "LayoutModel",
          "model_module_version": "1.2.0",
          "state": {
            "_view_name": "LayoutView",
            "grid_template_rows": null,
            "right": null,
            "justify_content": null,
            "_view_module": "@jupyter-widgets/base",
            "overflow": null,
            "_model_module_version": "1.2.0",
            "_view_count": null,
            "flex_flow": null,
            "width": null,
            "min_width": null,
            "border": null,
            "align_items": null,
            "bottom": null,
            "_model_module": "@jupyter-widgets/base",
            "top": null,
            "grid_column": null,
            "overflow_y": null,
            "overflow_x": null,
            "grid_auto_flow": null,
            "grid_area": null,
            "grid_template_columns": null,
            "flex": null,
            "_model_name": "LayoutModel",
            "justify_items": null,
            "grid_row": null,
            "max_height": null,
            "align_content": null,
            "visibility": null,
            "align_self": null,
            "height": null,
            "min_height": null,
            "padding": null,
            "grid_auto_rows": null,
            "grid_gap": null,
            "max_width": null,
            "order": null,
            "_view_module_version": "1.2.0",
            "grid_template_areas": null,
            "object_position": null,
            "object_fit": null,
            "grid_auto_columns": null,
            "margin": null,
            "display": null,
            "left": null
          }
        },
        "e0121729c91b49428599d76148af0a07": {
          "model_module": "@jupyter-widgets/controls",
          "model_name": "ProgressStyleModel",
          "model_module_version": "1.5.0",
          "state": {
            "_view_name": "StyleView",
            "_model_name": "ProgressStyleModel",
            "description_width": "",
            "_view_module": "@jupyter-widgets/base",
            "_model_module_version": "1.5.0",
            "_view_count": null,
            "_view_module_version": "1.2.0",
            "bar_color": null,
            "_model_module": "@jupyter-widgets/controls"
          }
        },
        "eba9d2a2ccf144748ef820516ce3fade": {
          "model_module": "@jupyter-widgets/base",
          "model_name": "LayoutModel",
          "model_module_version": "1.2.0",
          "state": {
            "_view_name": "LayoutView",
            "grid_template_rows": null,
            "right": null,
            "justify_content": null,
            "_view_module": "@jupyter-widgets/base",
            "overflow": null,
            "_model_module_version": "1.2.0",
            "_view_count": null,
            "flex_flow": null,
            "width": null,
            "min_width": null,
            "border": null,
            "align_items": null,
            "bottom": null,
            "_model_module": "@jupyter-widgets/base",
            "top": null,
            "grid_column": null,
            "overflow_y": null,
            "overflow_x": null,
            "grid_auto_flow": null,
            "grid_area": null,
            "grid_template_columns": null,
            "flex": null,
            "_model_name": "LayoutModel",
            "justify_items": null,
            "grid_row": null,
            "max_height": null,
            "align_content": null,
            "visibility": null,
            "align_self": null,
            "height": null,
            "min_height": null,
            "padding": null,
            "grid_auto_rows": null,
            "grid_gap": null,
            "max_width": null,
            "order": null,
            "_view_module_version": "1.2.0",
            "grid_template_areas": null,
            "object_position": null,
            "object_fit": null,
            "grid_auto_columns": null,
            "margin": null,
            "display": null,
            "left": null
          }
        },
        "91963429013f4840b6e5153bae73699d": {
          "model_module": "@jupyter-widgets/controls",
          "model_name": "DescriptionStyleModel",
          "model_module_version": "1.5.0",
          "state": {
            "_view_name": "StyleView",
            "_model_name": "DescriptionStyleModel",
            "description_width": "",
            "_view_module": "@jupyter-widgets/base",
            "_model_module_version": "1.5.0",
            "_view_count": null,
            "_view_module_version": "1.2.0",
            "_model_module": "@jupyter-widgets/controls"
          }
        },
        "a9a777c87a0e407594c8432087f159fc": {
          "model_module": "@jupyter-widgets/base",
          "model_name": "LayoutModel",
          "model_module_version": "1.2.0",
          "state": {
            "_view_name": "LayoutView",
            "grid_template_rows": null,
            "right": null,
            "justify_content": null,
            "_view_module": "@jupyter-widgets/base",
            "overflow": null,
            "_model_module_version": "1.2.0",
            "_view_count": null,
            "flex_flow": null,
            "width": null,
            "min_width": null,
            "border": null,
            "align_items": null,
            "bottom": null,
            "_model_module": "@jupyter-widgets/base",
            "top": null,
            "grid_column": null,
            "overflow_y": null,
            "overflow_x": null,
            "grid_auto_flow": null,
            "grid_area": null,
            "grid_template_columns": null,
            "flex": null,
            "_model_name": "LayoutModel",
            "justify_items": null,
            "grid_row": null,
            "max_height": null,
            "align_content": null,
            "visibility": null,
            "align_self": null,
            "height": null,
            "min_height": null,
            "padding": null,
            "grid_auto_rows": null,
            "grid_gap": null,
            "max_width": null,
            "order": null,
            "_view_module_version": "1.2.0",
            "grid_template_areas": null,
            "object_position": null,
            "object_fit": null,
            "grid_auto_columns": null,
            "margin": null,
            "display": null,
            "left": null
          }
        }
      }
    }
  },
  "cells": [
    {
      "cell_type": "code",
      "metadata": {
        "id": "xNvW5exhN220"
      },
      "source": [
        "import cv2\n",
        "import matplotlib.pyplot as plt\n",
        "import numpy as np\n",
        "import os\n",
        "from glob import glob\n",
        "from tqdm.auto import tqdm\n",
        "import tensorflow as tf\n",
        "from tensorflow.keras import layers, models, utils, metrics\n",
        "from sklearn.model_selection import train_test_split\n",
        "import pandas as pd\n",
        "import imgaug.augmenters as iaa\n",
        "import imgaug as ia"
      ],
      "execution_count": 7,
      "outputs": []
    },
    {
      "cell_type": "markdown",
      "metadata": {
        "id": "xR6RhbN7OHIy"
      },
      "source": [
        "#### Download dataset"
      ]
    },
    {
      "cell_type": "code",
      "metadata": {
        "id": "LuvN-YyqOKx_",
        "colab": {
          "base_uri": "https://localhost:8080/"
        },
        "outputId": "97d1f6dc-c653-42c5-a4af-ed6bd8133caa"
      },
      "source": [
        "# download from google drive or from kaggle: https://www.kaggle.com/c/pneumonia-sai\n",
        "!gdown --id '1uuQLSS0rhOwdlgDXD90J_Ma9ShihXMva' --output pneumonia-kaggle.zip"
      ],
      "execution_count": 8,
      "outputs": [
        {
          "output_type": "stream",
          "text": [
            "Downloading...\n",
            "From: https://drive.google.com/uc?id=1uuQLSS0rhOwdlgDXD90J_Ma9ShihXMva\n",
            "To: /content/pneumonia-kaggle.zip\n",
            "1.22GB [00:05, 243MB/s]\n"
          ],
          "name": "stdout"
        }
      ]
    },
    {
      "cell_type": "code",
      "metadata": {
        "id": "IWavVHQuOMBN"
      },
      "source": [
        "# unzip dataset file\n",
        "!unzip -q pneumonia-kaggle.zip"
      ],
      "execution_count": 9,
      "outputs": []
    },
    {
      "cell_type": "markdown",
      "metadata": {
        "id": "o8WbN3tCOPrJ"
      },
      "source": [
        "#### Prepare dataset\n"
      ]
    },
    {
      "cell_type": "code",
      "metadata": {
        "id": "cB_J9eXcONCb",
        "colab": {
          "base_uri": "https://localhost:8080/"
        },
        "outputId": "48166705-921b-43c4-bdb5-9ad45c697076"
      },
      "source": [
        "IMG_SIZE = 200\n",
        "BATCH_SIZE = 64\n",
        "\n",
        "all_class = ['normal', 'bacteria', 'virus']\n",
        "class_map = {cls:i for i,cls in enumerate(all_class)} #  'normal':0, 'bacteria': 1, 'virus':2\n",
        "class_map"
      ],
      "execution_count": 10,
      "outputs": [
        {
          "output_type": "execute_result",
          "data": {
            "text/plain": [
              "{'bacteria': 1, 'normal': 0, 'virus': 2}"
            ]
          },
          "metadata": {
            "tags": []
          },
          "execution_count": 10
        }
      ]
    },
    {
      "cell_type": "code",
      "metadata": {
        "id": "ZA5ZTvTCORGY"
      },
      "source": [
        "# read all paths\n",
        "img_paths_all = glob('train/*/*.jpeg')\n",
        "img_paths_test = sorted(glob('test/*.jpeg'))\n",
        "img_paths_train, img_paths_val = train_test_split(img_paths_all, test_size=0.2)"
      ],
      "execution_count": 11,
      "outputs": []
    },
    {
      "cell_type": "code",
      "metadata": {
        "id": "TP0o7bObOSq8",
        "colab": {
          "base_uri": "https://localhost:8080/"
        },
        "outputId": "012b6365-dac4-4d50-be81-9210bff1228e"
      },
      "source": [
        "# number of images\n",
        "len(img_paths_train), len(img_paths_val), len(img_paths_test)"
      ],
      "execution_count": 12,
      "outputs": [
        {
          "output_type": "execute_result",
          "data": {
            "text/plain": [
              "(4172, 1044, 624)"
            ]
          },
          "metadata": {
            "tags": []
          },
          "execution_count": 12
        }
      ]
    },
    {
      "cell_type": "code",
      "metadata": {
        "id": "tOTqXcGcOmWl"
      },
      "source": [
        "class DataGenerator(utils.Sequence):\n",
        "    def __init__(self, paths, batch_size, img_size, mode='train', aug=False):\n",
        "        self.paths = paths\n",
        "        self.batch_size = batch_size\n",
        "        self.shuffle = mode == 'train'\n",
        "        self.indexes = np.arange(len(self.paths))\n",
        "        all_class = ['normal', 'bacteria', 'virus']\n",
        "        self.class_map = {cls:i for i,cls in enumerate(all_class)}\n",
        "        self.num_classes = len(self.class_map)\n",
        "        self.img_size = img_size\n",
        "        self.mode = mode\n",
        "        self.on_epoch_end()\n",
        "        self.aug = aug\n",
        "        self.seq = iaa.Sequential([\n",
        "            iaa.Fliplr(0.5), # 50% horizontal flip\n",
        "            iaa.Affine(\n",
        "                rotate=(-10, 10), # random rotate -45 ~ +45 degree\n",
        "                translate_percent={\"x\": (-0.1, 0.1), \"y\": (-0.1, 0.1)},\n",
        "                scale={\"x\": (0.8, 1.2), \"y\": (0.8, 1.2)} # scale x, y: 80%~120%\n",
        "            ),\n",
        "        ])\n",
        "\n",
        "    def __len__(self):\n",
        "        'number of batches per epoch'\n",
        "        return int(np.ceil(len(self.paths) / self.batch_size))\n",
        "\n",
        "    def __getitem__(self, index):\n",
        "        'Generate one batch of data'\n",
        "        # Generate indexes of the batch\n",
        "        idxs = self.indexes[index * self.batch_size:(index + 1) * self.batch_size]\n",
        "        # Find list of IDs\n",
        "        batch_paths = [self.paths[i] for i in idxs]\n",
        "        # Generate data\n",
        "        return self.__data_generation(batch_paths)\n",
        "\n",
        "    def on_epoch_end(self):\n",
        "        'Updates indexes after each epoch'\n",
        "        if self.shuffle:\n",
        "            np.random.shuffle(self.indexes)\n",
        "    \n",
        "    def augmentation(self, imgs):\n",
        "        return self.seq.augment_images(imgs)\n",
        "\n",
        "    def __data_generation(self, paths):\n",
        "        \"\"\"\n",
        "        Generates data containing batch_size samples\n",
        "        \"\"\"\n",
        "        x = np.empty((len(paths), self.img_size, self.img_size, 3), dtype=np.float32)\n",
        "        y = np.empty((len(paths)))\n",
        "\n",
        "        for i, path in enumerate(paths):\n",
        "            img = cv2.imread(path)[:,:,::-1]\n",
        "            # img preprocess\n",
        "            img = cv2.resize(img, (self.img_size, self.img_size))\n",
        "            img = tf.keras.applications.xception.preprocess_input(img)\n",
        "            if self.mode != 'test':\n",
        "                # read class label\n",
        "                cls = path.split(os.sep)[-2].lower()\n",
        "                if cls == 'pneumonia':\n",
        "                    # get filename\n",
        "                    filename = path.split(os.sep)[-1]\n",
        "                    # get pneumonia subclass\n",
        "                    cls_pneumonia = filename.split('_')[1] \n",
        "                    cls_idx = class_map[cls_pneumonia]\n",
        "                # for normal class\n",
        "                else:\n",
        "                    cls_idx = class_map[cls]\n",
        "                y[i] = cls_idx\n",
        "            x[i] = img\n",
        "\n",
        "        if self.mode != 'test':            \n",
        "            # one-hot encoding\n",
        "            y = tf.keras.utils.to_categorical(y, num_classes=self.num_classes)\n",
        "            if self.aug:\n",
        "                x = self.augmentation(x)\n",
        "            return x, y\n",
        "        else:\n",
        "            return x\n",
        "\n"
      ],
      "execution_count": 13,
      "outputs": []
    },
    {
      "cell_type": "code",
      "metadata": {
        "id": "SBqzfZkXQkVQ"
      },
      "source": [
        "gen_train = DataGenerator(img_paths_train, BATCH_SIZE, IMG_SIZE, mode='train', aug=True)\n",
        "gen_val = DataGenerator(img_paths_val, BATCH_SIZE, IMG_SIZE, mode='val')\n",
        "gen_test = DataGenerator(img_paths_test, BATCH_SIZE, IMG_SIZE, mode='test')"
      ],
      "execution_count": 14,
      "outputs": []
    },
    {
      "cell_type": "markdown",
      "metadata": {
        "id": "lN8txlyVRKAd"
      },
      "source": [
        "### Build model"
      ]
    },
    {
      "cell_type": "code",
      "metadata": {
        "colab": {
          "base_uri": "https://localhost:8080/"
        },
        "id": "myrVIxJEap-2",
        "outputId": "764059aa-0efa-4861-9518-1696a39c7687"
      },
      "source": [
        "base_model = tf.keras.applications.Xception(include_top=False, weights='imagenet', input_shape=(IMG_SIZE, IMG_SIZE, 3))\n",
        "x = base_model.output\n",
        "x = layers.GlobalAveragePooling2D()(x)\n",
        "predictions = layers.Dense(3, activation='softmax')(x)\n",
        "model = models.Model(base_model.input, predictions)\n",
        "model.summary()"
      ],
      "execution_count": 15,
      "outputs": [
        {
          "output_type": "stream",
          "text": [
            "Downloading data from https://storage.googleapis.com/tensorflow/keras-applications/xception/xception_weights_tf_dim_ordering_tf_kernels_notop.h5\n",
            "83689472/83683744 [==============================] - 1s 0us/step\n",
            "Model: \"model\"\n",
            "__________________________________________________________________________________________________\n",
            "Layer (type)                    Output Shape         Param #     Connected to                     \n",
            "==================================================================================================\n",
            "input_1 (InputLayer)            [(None, 200, 200, 3) 0                                            \n",
            "__________________________________________________________________________________________________\n",
            "block1_conv1 (Conv2D)           (None, 99, 99, 32)   864         input_1[0][0]                    \n",
            "__________________________________________________________________________________________________\n",
            "block1_conv1_bn (BatchNormaliza (None, 99, 99, 32)   128         block1_conv1[0][0]               \n",
            "__________________________________________________________________________________________________\n",
            "block1_conv1_act (Activation)   (None, 99, 99, 32)   0           block1_conv1_bn[0][0]            \n",
            "__________________________________________________________________________________________________\n",
            "block1_conv2 (Conv2D)           (None, 97, 97, 64)   18432       block1_conv1_act[0][0]           \n",
            "__________________________________________________________________________________________________\n",
            "block1_conv2_bn (BatchNormaliza (None, 97, 97, 64)   256         block1_conv2[0][0]               \n",
            "__________________________________________________________________________________________________\n",
            "block1_conv2_act (Activation)   (None, 97, 97, 64)   0           block1_conv2_bn[0][0]            \n",
            "__________________________________________________________________________________________________\n",
            "block2_sepconv1 (SeparableConv2 (None, 97, 97, 128)  8768        block1_conv2_act[0][0]           \n",
            "__________________________________________________________________________________________________\n",
            "block2_sepconv1_bn (BatchNormal (None, 97, 97, 128)  512         block2_sepconv1[0][0]            \n",
            "__________________________________________________________________________________________________\n",
            "block2_sepconv2_act (Activation (None, 97, 97, 128)  0           block2_sepconv1_bn[0][0]         \n",
            "__________________________________________________________________________________________________\n",
            "block2_sepconv2 (SeparableConv2 (None, 97, 97, 128)  17536       block2_sepconv2_act[0][0]        \n",
            "__________________________________________________________________________________________________\n",
            "block2_sepconv2_bn (BatchNormal (None, 97, 97, 128)  512         block2_sepconv2[0][0]            \n",
            "__________________________________________________________________________________________________\n",
            "conv2d (Conv2D)                 (None, 49, 49, 128)  8192        block1_conv2_act[0][0]           \n",
            "__________________________________________________________________________________________________\n",
            "block2_pool (MaxPooling2D)      (None, 49, 49, 128)  0           block2_sepconv2_bn[0][0]         \n",
            "__________________________________________________________________________________________________\n",
            "batch_normalization (BatchNorma (None, 49, 49, 128)  512         conv2d[0][0]                     \n",
            "__________________________________________________________________________________________________\n",
            "add (Add)                       (None, 49, 49, 128)  0           block2_pool[0][0]                \n",
            "                                                                 batch_normalization[0][0]        \n",
            "__________________________________________________________________________________________________\n",
            "block3_sepconv1_act (Activation (None, 49, 49, 128)  0           add[0][0]                        \n",
            "__________________________________________________________________________________________________\n",
            "block3_sepconv1 (SeparableConv2 (None, 49, 49, 256)  33920       block3_sepconv1_act[0][0]        \n",
            "__________________________________________________________________________________________________\n",
            "block3_sepconv1_bn (BatchNormal (None, 49, 49, 256)  1024        block3_sepconv1[0][0]            \n",
            "__________________________________________________________________________________________________\n",
            "block3_sepconv2_act (Activation (None, 49, 49, 256)  0           block3_sepconv1_bn[0][0]         \n",
            "__________________________________________________________________________________________________\n",
            "block3_sepconv2 (SeparableConv2 (None, 49, 49, 256)  67840       block3_sepconv2_act[0][0]        \n",
            "__________________________________________________________________________________________________\n",
            "block3_sepconv2_bn (BatchNormal (None, 49, 49, 256)  1024        block3_sepconv2[0][0]            \n",
            "__________________________________________________________________________________________________\n",
            "conv2d_1 (Conv2D)               (None, 25, 25, 256)  32768       add[0][0]                        \n",
            "__________________________________________________________________________________________________\n",
            "block3_pool (MaxPooling2D)      (None, 25, 25, 256)  0           block3_sepconv2_bn[0][0]         \n",
            "__________________________________________________________________________________________________\n",
            "batch_normalization_1 (BatchNor (None, 25, 25, 256)  1024        conv2d_1[0][0]                   \n",
            "__________________________________________________________________________________________________\n",
            "add_1 (Add)                     (None, 25, 25, 256)  0           block3_pool[0][0]                \n",
            "                                                                 batch_normalization_1[0][0]      \n",
            "__________________________________________________________________________________________________\n",
            "block4_sepconv1_act (Activation (None, 25, 25, 256)  0           add_1[0][0]                      \n",
            "__________________________________________________________________________________________________\n",
            "block4_sepconv1 (SeparableConv2 (None, 25, 25, 728)  188672      block4_sepconv1_act[0][0]        \n",
            "__________________________________________________________________________________________________\n",
            "block4_sepconv1_bn (BatchNormal (None, 25, 25, 728)  2912        block4_sepconv1[0][0]            \n",
            "__________________________________________________________________________________________________\n",
            "block4_sepconv2_act (Activation (None, 25, 25, 728)  0           block4_sepconv1_bn[0][0]         \n",
            "__________________________________________________________________________________________________\n",
            "block4_sepconv2 (SeparableConv2 (None, 25, 25, 728)  536536      block4_sepconv2_act[0][0]        \n",
            "__________________________________________________________________________________________________\n",
            "block4_sepconv2_bn (BatchNormal (None, 25, 25, 728)  2912        block4_sepconv2[0][0]            \n",
            "__________________________________________________________________________________________________\n",
            "conv2d_2 (Conv2D)               (None, 13, 13, 728)  186368      add_1[0][0]                      \n",
            "__________________________________________________________________________________________________\n",
            "block4_pool (MaxPooling2D)      (None, 13, 13, 728)  0           block4_sepconv2_bn[0][0]         \n",
            "__________________________________________________________________________________________________\n",
            "batch_normalization_2 (BatchNor (None, 13, 13, 728)  2912        conv2d_2[0][0]                   \n",
            "__________________________________________________________________________________________________\n",
            "add_2 (Add)                     (None, 13, 13, 728)  0           block4_pool[0][0]                \n",
            "                                                                 batch_normalization_2[0][0]      \n",
            "__________________________________________________________________________________________________\n",
            "block5_sepconv1_act (Activation (None, 13, 13, 728)  0           add_2[0][0]                      \n",
            "__________________________________________________________________________________________________\n",
            "block5_sepconv1 (SeparableConv2 (None, 13, 13, 728)  536536      block5_sepconv1_act[0][0]        \n",
            "__________________________________________________________________________________________________\n",
            "block5_sepconv1_bn (BatchNormal (None, 13, 13, 728)  2912        block5_sepconv1[0][0]            \n",
            "__________________________________________________________________________________________________\n",
            "block5_sepconv2_act (Activation (None, 13, 13, 728)  0           block5_sepconv1_bn[0][0]         \n",
            "__________________________________________________________________________________________________\n",
            "block5_sepconv2 (SeparableConv2 (None, 13, 13, 728)  536536      block5_sepconv2_act[0][0]        \n",
            "__________________________________________________________________________________________________\n",
            "block5_sepconv2_bn (BatchNormal (None, 13, 13, 728)  2912        block5_sepconv2[0][0]            \n",
            "__________________________________________________________________________________________________\n",
            "block5_sepconv3_act (Activation (None, 13, 13, 728)  0           block5_sepconv2_bn[0][0]         \n",
            "__________________________________________________________________________________________________\n",
            "block5_sepconv3 (SeparableConv2 (None, 13, 13, 728)  536536      block5_sepconv3_act[0][0]        \n",
            "__________________________________________________________________________________________________\n",
            "block5_sepconv3_bn (BatchNormal (None, 13, 13, 728)  2912        block5_sepconv3[0][0]            \n",
            "__________________________________________________________________________________________________\n",
            "add_3 (Add)                     (None, 13, 13, 728)  0           block5_sepconv3_bn[0][0]         \n",
            "                                                                 add_2[0][0]                      \n",
            "__________________________________________________________________________________________________\n",
            "block6_sepconv1_act (Activation (None, 13, 13, 728)  0           add_3[0][0]                      \n",
            "__________________________________________________________________________________________________\n",
            "block6_sepconv1 (SeparableConv2 (None, 13, 13, 728)  536536      block6_sepconv1_act[0][0]        \n",
            "__________________________________________________________________________________________________\n",
            "block6_sepconv1_bn (BatchNormal (None, 13, 13, 728)  2912        block6_sepconv1[0][0]            \n",
            "__________________________________________________________________________________________________\n",
            "block6_sepconv2_act (Activation (None, 13, 13, 728)  0           block6_sepconv1_bn[0][0]         \n",
            "__________________________________________________________________________________________________\n",
            "block6_sepconv2 (SeparableConv2 (None, 13, 13, 728)  536536      block6_sepconv2_act[0][0]        \n",
            "__________________________________________________________________________________________________\n",
            "block6_sepconv2_bn (BatchNormal (None, 13, 13, 728)  2912        block6_sepconv2[0][0]            \n",
            "__________________________________________________________________________________________________\n",
            "block6_sepconv3_act (Activation (None, 13, 13, 728)  0           block6_sepconv2_bn[0][0]         \n",
            "__________________________________________________________________________________________________\n",
            "block6_sepconv3 (SeparableConv2 (None, 13, 13, 728)  536536      block6_sepconv3_act[0][0]        \n",
            "__________________________________________________________________________________________________\n",
            "block6_sepconv3_bn (BatchNormal (None, 13, 13, 728)  2912        block6_sepconv3[0][0]            \n",
            "__________________________________________________________________________________________________\n",
            "add_4 (Add)                     (None, 13, 13, 728)  0           block6_sepconv3_bn[0][0]         \n",
            "                                                                 add_3[0][0]                      \n",
            "__________________________________________________________________________________________________\n",
            "block7_sepconv1_act (Activation (None, 13, 13, 728)  0           add_4[0][0]                      \n",
            "__________________________________________________________________________________________________\n",
            "block7_sepconv1 (SeparableConv2 (None, 13, 13, 728)  536536      block7_sepconv1_act[0][0]        \n",
            "__________________________________________________________________________________________________\n",
            "block7_sepconv1_bn (BatchNormal (None, 13, 13, 728)  2912        block7_sepconv1[0][0]            \n",
            "__________________________________________________________________________________________________\n",
            "block7_sepconv2_act (Activation (None, 13, 13, 728)  0           block7_sepconv1_bn[0][0]         \n",
            "__________________________________________________________________________________________________\n",
            "block7_sepconv2 (SeparableConv2 (None, 13, 13, 728)  536536      block7_sepconv2_act[0][0]        \n",
            "__________________________________________________________________________________________________\n",
            "block7_sepconv2_bn (BatchNormal (None, 13, 13, 728)  2912        block7_sepconv2[0][0]            \n",
            "__________________________________________________________________________________________________\n",
            "block7_sepconv3_act (Activation (None, 13, 13, 728)  0           block7_sepconv2_bn[0][0]         \n",
            "__________________________________________________________________________________________________\n",
            "block7_sepconv3 (SeparableConv2 (None, 13, 13, 728)  536536      block7_sepconv3_act[0][0]        \n",
            "__________________________________________________________________________________________________\n",
            "block7_sepconv3_bn (BatchNormal (None, 13, 13, 728)  2912        block7_sepconv3[0][0]            \n",
            "__________________________________________________________________________________________________\n",
            "add_5 (Add)                     (None, 13, 13, 728)  0           block7_sepconv3_bn[0][0]         \n",
            "                                                                 add_4[0][0]                      \n",
            "__________________________________________________________________________________________________\n",
            "block8_sepconv1_act (Activation (None, 13, 13, 728)  0           add_5[0][0]                      \n",
            "__________________________________________________________________________________________________\n",
            "block8_sepconv1 (SeparableConv2 (None, 13, 13, 728)  536536      block8_sepconv1_act[0][0]        \n",
            "__________________________________________________________________________________________________\n",
            "block8_sepconv1_bn (BatchNormal (None, 13, 13, 728)  2912        block8_sepconv1[0][0]            \n",
            "__________________________________________________________________________________________________\n",
            "block8_sepconv2_act (Activation (None, 13, 13, 728)  0           block8_sepconv1_bn[0][0]         \n",
            "__________________________________________________________________________________________________\n",
            "block8_sepconv2 (SeparableConv2 (None, 13, 13, 728)  536536      block8_sepconv2_act[0][0]        \n",
            "__________________________________________________________________________________________________\n",
            "block8_sepconv2_bn (BatchNormal (None, 13, 13, 728)  2912        block8_sepconv2[0][0]            \n",
            "__________________________________________________________________________________________________\n",
            "block8_sepconv3_act (Activation (None, 13, 13, 728)  0           block8_sepconv2_bn[0][0]         \n",
            "__________________________________________________________________________________________________\n",
            "block8_sepconv3 (SeparableConv2 (None, 13, 13, 728)  536536      block8_sepconv3_act[0][0]        \n",
            "__________________________________________________________________________________________________\n",
            "block8_sepconv3_bn (BatchNormal (None, 13, 13, 728)  2912        block8_sepconv3[0][0]            \n",
            "__________________________________________________________________________________________________\n",
            "add_6 (Add)                     (None, 13, 13, 728)  0           block8_sepconv3_bn[0][0]         \n",
            "                                                                 add_5[0][0]                      \n",
            "__________________________________________________________________________________________________\n",
            "block9_sepconv1_act (Activation (None, 13, 13, 728)  0           add_6[0][0]                      \n",
            "__________________________________________________________________________________________________\n",
            "block9_sepconv1 (SeparableConv2 (None, 13, 13, 728)  536536      block9_sepconv1_act[0][0]        \n",
            "__________________________________________________________________________________________________\n",
            "block9_sepconv1_bn (BatchNormal (None, 13, 13, 728)  2912        block9_sepconv1[0][0]            \n",
            "__________________________________________________________________________________________________\n",
            "block9_sepconv2_act (Activation (None, 13, 13, 728)  0           block9_sepconv1_bn[0][0]         \n",
            "__________________________________________________________________________________________________\n",
            "block9_sepconv2 (SeparableConv2 (None, 13, 13, 728)  536536      block9_sepconv2_act[0][0]        \n",
            "__________________________________________________________________________________________________\n",
            "block9_sepconv2_bn (BatchNormal (None, 13, 13, 728)  2912        block9_sepconv2[0][0]            \n",
            "__________________________________________________________________________________________________\n",
            "block9_sepconv3_act (Activation (None, 13, 13, 728)  0           block9_sepconv2_bn[0][0]         \n",
            "__________________________________________________________________________________________________\n",
            "block9_sepconv3 (SeparableConv2 (None, 13, 13, 728)  536536      block9_sepconv3_act[0][0]        \n",
            "__________________________________________________________________________________________________\n",
            "block9_sepconv3_bn (BatchNormal (None, 13, 13, 728)  2912        block9_sepconv3[0][0]            \n",
            "__________________________________________________________________________________________________\n",
            "add_7 (Add)                     (None, 13, 13, 728)  0           block9_sepconv3_bn[0][0]         \n",
            "                                                                 add_6[0][0]                      \n",
            "__________________________________________________________________________________________________\n",
            "block10_sepconv1_act (Activatio (None, 13, 13, 728)  0           add_7[0][0]                      \n",
            "__________________________________________________________________________________________________\n",
            "block10_sepconv1 (SeparableConv (None, 13, 13, 728)  536536      block10_sepconv1_act[0][0]       \n",
            "__________________________________________________________________________________________________\n",
            "block10_sepconv1_bn (BatchNorma (None, 13, 13, 728)  2912        block10_sepconv1[0][0]           \n",
            "__________________________________________________________________________________________________\n",
            "block10_sepconv2_act (Activatio (None, 13, 13, 728)  0           block10_sepconv1_bn[0][0]        \n",
            "__________________________________________________________________________________________________\n",
            "block10_sepconv2 (SeparableConv (None, 13, 13, 728)  536536      block10_sepconv2_act[0][0]       \n",
            "__________________________________________________________________________________________________\n",
            "block10_sepconv2_bn (BatchNorma (None, 13, 13, 728)  2912        block10_sepconv2[0][0]           \n",
            "__________________________________________________________________________________________________\n",
            "block10_sepconv3_act (Activatio (None, 13, 13, 728)  0           block10_sepconv2_bn[0][0]        \n",
            "__________________________________________________________________________________________________\n",
            "block10_sepconv3 (SeparableConv (None, 13, 13, 728)  536536      block10_sepconv3_act[0][0]       \n",
            "__________________________________________________________________________________________________\n",
            "block10_sepconv3_bn (BatchNorma (None, 13, 13, 728)  2912        block10_sepconv3[0][0]           \n",
            "__________________________________________________________________________________________________\n",
            "add_8 (Add)                     (None, 13, 13, 728)  0           block10_sepconv3_bn[0][0]        \n",
            "                                                                 add_7[0][0]                      \n",
            "__________________________________________________________________________________________________\n",
            "block11_sepconv1_act (Activatio (None, 13, 13, 728)  0           add_8[0][0]                      \n",
            "__________________________________________________________________________________________________\n",
            "block11_sepconv1 (SeparableConv (None, 13, 13, 728)  536536      block11_sepconv1_act[0][0]       \n",
            "__________________________________________________________________________________________________\n",
            "block11_sepconv1_bn (BatchNorma (None, 13, 13, 728)  2912        block11_sepconv1[0][0]           \n",
            "__________________________________________________________________________________________________\n",
            "block11_sepconv2_act (Activatio (None, 13, 13, 728)  0           block11_sepconv1_bn[0][0]        \n",
            "__________________________________________________________________________________________________\n",
            "block11_sepconv2 (SeparableConv (None, 13, 13, 728)  536536      block11_sepconv2_act[0][0]       \n",
            "__________________________________________________________________________________________________\n",
            "block11_sepconv2_bn (BatchNorma (None, 13, 13, 728)  2912        block11_sepconv2[0][0]           \n",
            "__________________________________________________________________________________________________\n",
            "block11_sepconv3_act (Activatio (None, 13, 13, 728)  0           block11_sepconv2_bn[0][0]        \n",
            "__________________________________________________________________________________________________\n",
            "block11_sepconv3 (SeparableConv (None, 13, 13, 728)  536536      block11_sepconv3_act[0][0]       \n",
            "__________________________________________________________________________________________________\n",
            "block11_sepconv3_bn (BatchNorma (None, 13, 13, 728)  2912        block11_sepconv3[0][0]           \n",
            "__________________________________________________________________________________________________\n",
            "add_9 (Add)                     (None, 13, 13, 728)  0           block11_sepconv3_bn[0][0]        \n",
            "                                                                 add_8[0][0]                      \n",
            "__________________________________________________________________________________________________\n",
            "block12_sepconv1_act (Activatio (None, 13, 13, 728)  0           add_9[0][0]                      \n",
            "__________________________________________________________________________________________________\n",
            "block12_sepconv1 (SeparableConv (None, 13, 13, 728)  536536      block12_sepconv1_act[0][0]       \n",
            "__________________________________________________________________________________________________\n",
            "block12_sepconv1_bn (BatchNorma (None, 13, 13, 728)  2912        block12_sepconv1[0][0]           \n",
            "__________________________________________________________________________________________________\n",
            "block12_sepconv2_act (Activatio (None, 13, 13, 728)  0           block12_sepconv1_bn[0][0]        \n",
            "__________________________________________________________________________________________________\n",
            "block12_sepconv2 (SeparableConv (None, 13, 13, 728)  536536      block12_sepconv2_act[0][0]       \n",
            "__________________________________________________________________________________________________\n",
            "block12_sepconv2_bn (BatchNorma (None, 13, 13, 728)  2912        block12_sepconv2[0][0]           \n",
            "__________________________________________________________________________________________________\n",
            "block12_sepconv3_act (Activatio (None, 13, 13, 728)  0           block12_sepconv2_bn[0][0]        \n",
            "__________________________________________________________________________________________________\n",
            "block12_sepconv3 (SeparableConv (None, 13, 13, 728)  536536      block12_sepconv3_act[0][0]       \n",
            "__________________________________________________________________________________________________\n",
            "block12_sepconv3_bn (BatchNorma (None, 13, 13, 728)  2912        block12_sepconv3[0][0]           \n",
            "__________________________________________________________________________________________________\n",
            "add_10 (Add)                    (None, 13, 13, 728)  0           block12_sepconv3_bn[0][0]        \n",
            "                                                                 add_9[0][0]                      \n",
            "__________________________________________________________________________________________________\n",
            "block13_sepconv1_act (Activatio (None, 13, 13, 728)  0           add_10[0][0]                     \n",
            "__________________________________________________________________________________________________\n",
            "block13_sepconv1 (SeparableConv (None, 13, 13, 728)  536536      block13_sepconv1_act[0][0]       \n",
            "__________________________________________________________________________________________________\n",
            "block13_sepconv1_bn (BatchNorma (None, 13, 13, 728)  2912        block13_sepconv1[0][0]           \n",
            "__________________________________________________________________________________________________\n",
            "block13_sepconv2_act (Activatio (None, 13, 13, 728)  0           block13_sepconv1_bn[0][0]        \n",
            "__________________________________________________________________________________________________\n",
            "block13_sepconv2 (SeparableConv (None, 13, 13, 1024) 752024      block13_sepconv2_act[0][0]       \n",
            "__________________________________________________________________________________________________\n",
            "block13_sepconv2_bn (BatchNorma (None, 13, 13, 1024) 4096        block13_sepconv2[0][0]           \n",
            "__________________________________________________________________________________________________\n",
            "conv2d_3 (Conv2D)               (None, 7, 7, 1024)   745472      add_10[0][0]                     \n",
            "__________________________________________________________________________________________________\n",
            "block13_pool (MaxPooling2D)     (None, 7, 7, 1024)   0           block13_sepconv2_bn[0][0]        \n",
            "__________________________________________________________________________________________________\n",
            "batch_normalization_3 (BatchNor (None, 7, 7, 1024)   4096        conv2d_3[0][0]                   \n",
            "__________________________________________________________________________________________________\n",
            "add_11 (Add)                    (None, 7, 7, 1024)   0           block13_pool[0][0]               \n",
            "                                                                 batch_normalization_3[0][0]      \n",
            "__________________________________________________________________________________________________\n",
            "block14_sepconv1 (SeparableConv (None, 7, 7, 1536)   1582080     add_11[0][0]                     \n",
            "__________________________________________________________________________________________________\n",
            "block14_sepconv1_bn (BatchNorma (None, 7, 7, 1536)   6144        block14_sepconv1[0][0]           \n",
            "__________________________________________________________________________________________________\n",
            "block14_sepconv1_act (Activatio (None, 7, 7, 1536)   0           block14_sepconv1_bn[0][0]        \n",
            "__________________________________________________________________________________________________\n",
            "block14_sepconv2 (SeparableConv (None, 7, 7, 2048)   3159552     block14_sepconv1_act[0][0]       \n",
            "__________________________________________________________________________________________________\n",
            "block14_sepconv2_bn (BatchNorma (None, 7, 7, 2048)   8192        block14_sepconv2[0][0]           \n",
            "__________________________________________________________________________________________________\n",
            "block14_sepconv2_act (Activatio (None, 7, 7, 2048)   0           block14_sepconv2_bn[0][0]        \n",
            "__________________________________________________________________________________________________\n",
            "global_average_pooling2d (Globa (None, 2048)         0           block14_sepconv2_act[0][0]       \n",
            "__________________________________________________________________________________________________\n",
            "dense (Dense)                   (None, 3)            6147        global_average_pooling2d[0][0]   \n",
            "==================================================================================================\n",
            "Total params: 20,867,627\n",
            "Trainable params: 20,813,099\n",
            "Non-trainable params: 54,528\n",
            "__________________________________________________________________________________________________\n"
          ],
          "name": "stdout"
        }
      ]
    },
    {
      "cell_type": "markdown",
      "metadata": {
        "id": "AcMyRv1iSDPu"
      },
      "source": [
        "#### Training"
      ]
    },
    {
      "cell_type": "code",
      "metadata": {
        "colab": {
          "base_uri": "https://localhost:8080/"
        },
        "id": "DqWCa7eharsD",
        "outputId": "c3f5241a-2068-42b2-f926-aba41d6c25bf"
      },
      "source": [
        "model.compile(tf.keras.optimizers.Adam(learning_rate=1e-3),\n",
        "       loss=tf.keras.losses.categorical_crossentropy,\n",
        "       metrics=['accuracy',metrics.categorical_accuracy])\n",
        "\n",
        "logs = model.fit(gen_train, epochs=100,\n",
        "          callbacks=[\n",
        "                     tf.keras.callbacks.EarlyStopping(patience=10),\n",
        "                     tf.keras.callbacks.ModelCheckpoint('./best.h5', save_best_only=True,),\n",
        "                     tf.keras.callbacks.ModelCheckpoint('./last.h5', save_best_only=False,),\n",
        "                     tf.keras.callbacks.ReduceLROnPlateau(patience=3, factor=0.3),\n",
        "          ],\n",
        "          validation_data=gen_val)"
      ],
      "execution_count": 16,
      "outputs": [
        {
          "output_type": "stream",
          "text": [
            "Epoch 1/100\n",
            "66/66 [==============================] - 188s 2s/step - loss: 0.5715 - accuracy: 0.7543 - categorical_accuracy: 0.7543 - val_loss: 13.1373 - val_accuracy: 0.4301 - val_categorical_accuracy: 0.4301\n"
          ],
          "name": "stdout"
        },
        {
          "output_type": "stream",
          "text": [
            "/usr/local/lib/python3.7/dist-packages/tensorflow/python/keras/utils/generic_utils.py:497: CustomMaskWarning: Custom mask layers require a config and must override get_config. When loading, the custom mask layer must be passed to the custom_objects argument.\n",
            "  category=CustomMaskWarning)\n"
          ],
          "name": "stderr"
        },
        {
          "output_type": "stream",
          "text": [
            "Epoch 2/100\n",
            "66/66 [==============================] - 149s 2s/step - loss: 0.4625 - accuracy: 0.7989 - categorical_accuracy: 0.7989 - val_loss: 6.7359 - val_accuracy: 0.3994 - val_categorical_accuracy: 0.3994\n",
            "Epoch 3/100\n",
            "66/66 [==============================] - 149s 2s/step - loss: 0.4412 - accuracy: 0.8058 - categorical_accuracy: 0.8058 - val_loss: 3.7536 - val_accuracy: 0.5527 - val_categorical_accuracy: 0.5527\n",
            "Epoch 4/100\n",
            "66/66 [==============================] - 148s 2s/step - loss: 0.4291 - accuracy: 0.8080 - categorical_accuracy: 0.8080 - val_loss: 1.2202 - val_accuracy: 0.7347 - val_categorical_accuracy: 0.7347\n",
            "Epoch 5/100\n",
            "66/66 [==============================] - 147s 2s/step - loss: 0.3880 - accuracy: 0.8286 - categorical_accuracy: 0.8286 - val_loss: 1.0446 - val_accuracy: 0.7682 - val_categorical_accuracy: 0.7682\n",
            "Epoch 6/100\n",
            "66/66 [==============================] - 147s 2s/step - loss: 0.3818 - accuracy: 0.8360 - categorical_accuracy: 0.8360 - val_loss: 0.9309 - val_accuracy: 0.7644 - val_categorical_accuracy: 0.7644\n",
            "Epoch 7/100\n",
            "66/66 [==============================] - 147s 2s/step - loss: 0.3657 - accuracy: 0.8399 - categorical_accuracy: 0.8399 - val_loss: 1.9135 - val_accuracy: 0.6743 - val_categorical_accuracy: 0.6743\n",
            "Epoch 8/100\n",
            "66/66 [==============================] - 146s 2s/step - loss: 0.3421 - accuracy: 0.8471 - categorical_accuracy: 0.8471 - val_loss: 0.7091 - val_accuracy: 0.7893 - val_categorical_accuracy: 0.7893\n",
            "Epoch 9/100\n",
            "66/66 [==============================] - 147s 2s/step - loss: 0.3279 - accuracy: 0.8603 - categorical_accuracy: 0.8603 - val_loss: 0.7042 - val_accuracy: 0.7893 - val_categorical_accuracy: 0.7893\n",
            "Epoch 10/100\n",
            "66/66 [==============================] - 147s 2s/step - loss: 0.3140 - accuracy: 0.8694 - categorical_accuracy: 0.8694 - val_loss: 0.7136 - val_accuracy: 0.7902 - val_categorical_accuracy: 0.7902\n",
            "Epoch 11/100\n",
            "66/66 [==============================] - 146s 2s/step - loss: 0.2857 - accuracy: 0.8828 - categorical_accuracy: 0.8828 - val_loss: 0.6552 - val_accuracy: 0.7921 - val_categorical_accuracy: 0.7921\n",
            "Epoch 12/100\n",
            "66/66 [==============================] - 146s 2s/step - loss: 0.2775 - accuracy: 0.8849 - categorical_accuracy: 0.8849 - val_loss: 1.0226 - val_accuracy: 0.7481 - val_categorical_accuracy: 0.7481\n",
            "Epoch 13/100\n",
            "66/66 [==============================] - 146s 2s/step - loss: 0.2615 - accuracy: 0.8924 - categorical_accuracy: 0.8924 - val_loss: 1.5768 - val_accuracy: 0.7462 - val_categorical_accuracy: 0.7462\n",
            "Epoch 14/100\n",
            "66/66 [==============================] - 146s 2s/step - loss: 0.2616 - accuracy: 0.8957 - categorical_accuracy: 0.8957 - val_loss: 1.0039 - val_accuracy: 0.6858 - val_categorical_accuracy: 0.6858\n",
            "Epoch 15/100\n",
            "66/66 [==============================] - 146s 2s/step - loss: 0.1768 - accuracy: 0.9312 - categorical_accuracy: 0.9312 - val_loss: 0.5492 - val_accuracy: 0.8257 - val_categorical_accuracy: 0.8257\n",
            "Epoch 16/100\n",
            "66/66 [==============================] - 146s 2s/step - loss: 0.1350 - accuracy: 0.9506 - categorical_accuracy: 0.9506 - val_loss: 0.6024 - val_accuracy: 0.8046 - val_categorical_accuracy: 0.8046\n",
            "Epoch 17/100\n",
            "66/66 [==============================] - 147s 2s/step - loss: 0.1163 - accuracy: 0.9561 - categorical_accuracy: 0.9561 - val_loss: 0.6841 - val_accuracy: 0.8362 - val_categorical_accuracy: 0.8362\n",
            "Epoch 18/100\n",
            "66/66 [==============================] - 146s 2s/step - loss: 0.1134 - accuracy: 0.9564 - categorical_accuracy: 0.9564 - val_loss: 0.9021 - val_accuracy: 0.7615 - val_categorical_accuracy: 0.7615\n",
            "Epoch 19/100\n",
            "66/66 [==============================] - 146s 2s/step - loss: 0.0915 - accuracy: 0.9667 - categorical_accuracy: 0.9667 - val_loss: 0.7773 - val_accuracy: 0.8027 - val_categorical_accuracy: 0.8027\n",
            "Epoch 20/100\n",
            "66/66 [==============================] - 146s 2s/step - loss: 0.0700 - accuracy: 0.9744 - categorical_accuracy: 0.9744 - val_loss: 0.6921 - val_accuracy: 0.8314 - val_categorical_accuracy: 0.8314\n",
            "Epoch 21/100\n",
            "66/66 [==============================] - 146s 2s/step - loss: 0.0592 - accuracy: 0.9791 - categorical_accuracy: 0.9791 - val_loss: 0.7144 - val_accuracy: 0.8314 - val_categorical_accuracy: 0.8314\n",
            "Epoch 22/100\n",
            "66/66 [==============================] - 146s 2s/step - loss: 0.0515 - accuracy: 0.9806 - categorical_accuracy: 0.9806 - val_loss: 0.7464 - val_accuracy: 0.8324 - val_categorical_accuracy: 0.8324\n",
            "Epoch 23/100\n",
            "66/66 [==============================] - 147s 2s/step - loss: 0.0430 - accuracy: 0.9859 - categorical_accuracy: 0.9859 - val_loss: 0.7762 - val_accuracy: 0.8247 - val_categorical_accuracy: 0.8247\n",
            "Epoch 24/100\n",
            "66/66 [==============================] - 147s 2s/step - loss: 0.0452 - accuracy: 0.9861 - categorical_accuracy: 0.9861 - val_loss: 0.7981 - val_accuracy: 0.8295 - val_categorical_accuracy: 0.8295\n",
            "Epoch 25/100\n",
            "66/66 [==============================] - 147s 2s/step - loss: 0.0432 - accuracy: 0.9854 - categorical_accuracy: 0.9854 - val_loss: 0.8174 - val_accuracy: 0.8295 - val_categorical_accuracy: 0.8295\n"
          ],
          "name": "stdout"
        }
      ]
    },
    {
      "cell_type": "markdown",
      "metadata": {
        "id": "1DGWlsFMasgN"
      },
      "source": [
        "#### Training logs"
      ]
    },
    {
      "cell_type": "code",
      "metadata": {
        "id": "UTYekKKeZMgQ",
        "colab": {
          "base_uri": "https://localhost:8080/"
        },
        "outputId": "6107acba-6bd8-4ccb-d485-acd3a671b330"
      },
      "source": [
        "history = logs.history\n",
        "min_loss_epoch = np.argmin(history['val_loss'])\n",
        "print('val loss ', history['val_loss'][min_loss_epoch])\n",
        "print('val acc', history['val_categorical_accuracy'][min_loss_epoch])"
      ],
      "execution_count": 17,
      "outputs": [
        {
          "output_type": "stream",
          "text": [
            "val loss  0.5491766333580017\n",
            "val acc 0.8256704807281494\n"
          ],
          "name": "stdout"
        }
      ]
    },
    {
      "cell_type": "code",
      "metadata": {
        "id": "5TD9yp-BZ6-5",
        "colab": {
          "base_uri": "https://localhost:8080/",
          "height": 336
        },
        "outputId": "78b8168d-f933-4d6b-fa46-d2170f4b15a5"
      },
      "source": [
        "plt.figure(figsize=(10, 5))\n",
        "plt.subplot(1,2,1)\n",
        "plt.plot(history['categorical_accuracy'])\n",
        "plt.plot(history['val_categorical_accuracy'])\n",
        "plt.legend(['categorical_accuracy', 'val_categorical_accuracy'])\n",
        "plt.title('categorical_accuracy')\n",
        "plt.subplot(1,2,2)\n",
        "plt.plot(history['loss'])\n",
        "plt.plot(history['val_loss'])\n",
        "plt.legend(['loss', 'val_loss'])\n",
        "plt.title('loss')\n",
        "plt.show()"
      ],
      "execution_count": 18,
      "outputs": [
        {
          "output_type": "display_data",
          "data": {
            "image/png": "[encoded data removed]",
            "text/plain": [
              "<Figure size 720x360 with 2 Axes>"
            ]
          },
          "metadata": {
            "tags": [],
            "needs_background": "light"
          }
        }
      ]
    },
    {
      "cell_type": "markdown",
      "metadata": {
        "id": "Y4vSiYFyaunl"
      },
      "source": [
        "#### Metrics"
      ]
    },
    {
      "cell_type": "code",
      "metadata": {
        "id": "YZWQ3hBz84C0"
      },
      "source": [
        "# load best model\n",
        "model.load_weights('best.h5') "
      ],
      "execution_count": 19,
      "outputs": []
    },
    {
      "cell_type": "code",
      "metadata": {
        "id": "Rrwg5aLPaX3u",
        "colab": {
          "base_uri": "https://localhost:8080/",
          "height": 49,
          "referenced_widgets": [
            "d4895a1573284350aa49bccdf505d7c8",
            "a8f76a26b0ab4b8f8a5a9f5717e5a662",
            "bd85dc8c4bd7496ea3b72e503046f279",
            "bbe0476084404847a4fade8e320b33bb",
            "dd52da057e5f440dab873b19c3822a10",
            "cd5352994ddc48e6b8c29b0003fbc535",
            "639a87b16d3a4b0e9bb09920b4d62dac",
            "e0121729c91b49428599d76148af0a07",
            "eba9d2a2ccf144748ef820516ce3fade",
            "91963429013f4840b6e5153bae73699d",
            "a9a777c87a0e407594c8432087f159fc"
          ]
        },
        "outputId": "53c98832-aa8d-44e0-b6b7-8e1899b71c93"
      },
      "source": [
        "from sklearn.metrics import classification_report, confusion_matrix\n",
        "\n",
        "y_pred = np.array([])\n",
        "y_true = np.array([])\n",
        "for x_val, y_val in tqdm(gen_val):\n",
        "    pred = model.predict(x_val)\n",
        "    y_pred = np.append(y_pred, np.argmax(pred, axis=-1))\n",
        "    y_true = np.append(y_true, np.argmax(y_val, axis=-1))"
      ],
      "execution_count": 20,
      "outputs": [
        {
          "output_type": "display_data",
          "data": {
            "application/vnd.jupyter.widget-view+json": {
              "model_id": "d4895a1573284350aa49bccdf505d7c8",
              "version_minor": 0,
              "version_major": 2
            },
            "text/plain": [
              "  0%|          | 0/17 [00:00<?, ?it/s]"
            ]
          },
          "metadata": {
            "tags": []
          }
        }
      ]
    },
    {
      "cell_type": "code",
      "metadata": {
        "id": "kW-d9lZPbHBW",
        "colab": {
          "base_uri": "https://localhost:8080/"
        },
        "outputId": "e116d20a-5c8f-44be-e298-c7ea901f9541"
      },
      "source": [
        "# classification_report\n",
        "print(classification_report(y_true, y_pred))"
      ],
      "execution_count": 21,
      "outputs": [
        {
          "output_type": "stream",
          "text": [
            "              precision    recall  f1-score   support\n",
            "\n",
            "         0.0       0.86      1.00      0.93       254\n",
            "         1.0       0.85      0.85      0.85       526\n",
            "         2.0       0.72      0.61      0.66       264\n",
            "\n",
            "    accuracy                           0.83      1044\n",
            "   macro avg       0.81      0.82      0.81      1044\n",
            "weighted avg       0.82      0.83      0.82      1044\n",
            "\n"
          ],
          "name": "stdout"
        }
      ]
    },
    {
      "cell_type": "code",
      "metadata": {
        "id": "d1XjMpsAcmsj",
        "colab": {
          "base_uri": "https://localhost:8080/"
        },
        "outputId": "dd7cfe37-2b20-4fce-cd58-0e3f158d7bab"
      },
      "source": [
        "# Confusion matrix:\n",
        "#   row: Ground truth\n",
        "#   column: predict\n",
        "print(confusion_matrix(y_true, y_pred))"
      ],
      "execution_count": 22,
      "outputs": [
        {
          "output_type": "stream",
          "text": [
            "[[254   0   0]\n",
            " [ 17 446  63]\n",
            " [ 24  78 162]]\n"
          ],
          "name": "stdout"
        }
      ]
    },
    {
      "cell_type": "markdown",
      "metadata": {
        "id": "KWEf9fQK9HVo"
      },
      "source": [
        "#### Make Kaggle Submission"
      ]
    },
    {
      "cell_type": "code",
      "metadata": {
        "id": "E8iOAX549EeV"
      },
      "source": [
        "predictions = np.argmax(model.predict(gen_test), axis=-1)"
      ],
      "execution_count": 23,
      "outputs": []
    },
    {
      "cell_type": "code",
      "metadata": {
        "id": "LoKTQdni9M6Z",
        "colab": {
          "base_uri": "https://localhost:8080/",
          "height": 419
        },
        "outputId": "e4c2bdc5-f56a-4d9d-aa0c-f7a95ac79cf6"
      },
      "source": [
        "df = pd.DataFrame()\n",
        "df['Id'] = [f'{i:05d}.jpeg' for i in range(len(img_paths_test))]\n",
        "df['Category'] = predictions.astype(int)\n",
        "df.to_csv('submission.csv', index=None)\n",
        "df"
      ],
      "execution_count": 24,
      "outputs": [
        {
          "output_type": "execute_result",
          "data": {
            "text/html": [
              "<div>\n",
              "<style scoped>\n",
              "    .dataframe tbody tr th:only-of-type {\n",
              "        vertical-align: middle;\n",
              "    }\n",
              "\n",
              "    .dataframe tbody tr th {\n",
              "        vertical-align: top;\n",
              "    }\n",
              "\n",
              "    .dataframe thead th {\n",
              "        text-align: right;\n",
              "    }\n",
              "</style>\n",
              "<table border=\"1\" class=\"dataframe\">\n",
              "  <thead>\n",
              "    <tr style=\"text-align: right;\">\n",
              "      <th></th>\n",
              "      <th>Id</th>\n",
              "      <th>Category</th>\n",
              "    </tr>\n",
              "  </thead>\n",
              "  <tbody>\n",
              "    <tr>\n",
              "      <th>0</th>\n",
              "      <td>00000.jpeg</td>\n",
              "      <td>0</td>\n",
              "    </tr>\n",
              "    <tr>\n",
              "      <th>1</th>\n",
              "      <td>00001.jpeg</td>\n",
              "      <td>1</td>\n",
              "    </tr>\n",
              "    <tr>\n",
              "      <th>2</th>\n",
              "      <td>00002.jpeg</td>\n",
              "      <td>1</td>\n",
              "    </tr>\n",
              "    <tr>\n",
              "      <th>3</th>\n",
              "      <td>00003.jpeg</td>\n",
              "      <td>2</td>\n",
              "    </tr>\n",
              "    <tr>\n",
              "      <th>4</th>\n",
              "      <td>00004.jpeg</td>\n",
              "      <td>1</td>\n",
              "    </tr>\n",
              "    <tr>\n",
              "      <th>...</th>\n",
              "      <td>...</td>\n",
              "      <td>...</td>\n",
              "    </tr>\n",
              "    <tr>\n",
              "      <th>619</th>\n",
              "      <td>00619.jpeg</td>\n",
              "      <td>0</td>\n",
              "    </tr>\n",
              "    <tr>\n",
              "      <th>620</th>\n",
              "      <td>00620.jpeg</td>\n",
              "      <td>1</td>\n",
              "    </tr>\n",
              "    <tr>\n",
              "      <th>621</th>\n",
              "      <td>00621.jpeg</td>\n",
              "      <td>0</td>\n",
              "    </tr>\n",
              "    <tr>\n",
              "      <th>622</th>\n",
              "      <td>00622.jpeg</td>\n",
              "      <td>2</td>\n",
              "    </tr>\n",
              "    <tr>\n",
              "      <th>623</th>\n",
              "      <td>00623.jpeg</td>\n",
              "      <td>1</td>\n",
              "    </tr>\n",
              "  </tbody>\n",
              "</table>\n",
              "<p>624 rows × 2 columns</p>\n",
              "</div>"
            ],
            "text/plain": [
              "             Id  Category\n",
              "0    00000.jpeg         0\n",
              "1    00001.jpeg         1\n",
              "2    00002.jpeg         1\n",
              "3    00003.jpeg         2\n",
              "4    00004.jpeg         1\n",
              "..          ...       ...\n",
              "619  00619.jpeg         0\n",
              "620  00620.jpeg         1\n",
              "621  00621.jpeg         0\n",
              "622  00622.jpeg         2\n",
              "623  00623.jpeg         1\n",
              "\n",
              "[624 rows x 2 columns]"
            ]
          },
          "metadata": {
            "tags": []
          },
          "execution_count": 24
        }
      ]
    },
    {
      "cell_type": "code",
      "metadata": {
        "id": "ucSqmRaa99Ju",
        "colab": {
          "base_uri": "https://localhost:8080/"
        },
        "outputId": "296530a8-0c80-43cf-9b94-7c1d8bec0143"
      },
      "source": [
        "history"
      ],
      "execution_count": 25,
      "outputs": [
        {
          "output_type": "execute_result",
          "data": {
            "text/plain": [
              "{'accuracy': [0.7543144822120667,\n",
              "  0.798897385597229,\n",
              "  0.8058485388755798,\n",
              "  0.8080057501792908,\n",
              "  0.8286193609237671,\n",
              "  0.8360498547554016,\n",
              "  0.8398849368095398,\n",
              "  0.8470757603645325,\n",
              "  0.8602588772773743,\n",
              "  0.8693671822547913,\n",
              "  0.8827900290489197,\n",
              "  0.8849472403526306,\n",
              "  0.8923777341842651,\n",
              "  0.8957334756851196,\n",
              "  0.931208074092865,\n",
              "  0.9506232142448425,\n",
              "  0.956136167049408,\n",
              "  0.9563758373260498,\n",
              "  0.9666826725006104,\n",
              "  0.9743528366088867,\n",
              "  0.9791467189788818,\n",
              "  0.9805848598480225,\n",
              "  0.9858580827713013,\n",
              "  0.9860978126525879,\n",
              "  0.9853787422180176],\n",
              " 'categorical_accuracy': [0.7543144822120667,\n",
              "  0.798897385597229,\n",
              "  0.8058485388755798,\n",
              "  0.8080057501792908,\n",
              "  0.8286193609237671,\n",
              "  0.8360498547554016,\n",
              "  0.8398849368095398,\n",
              "  0.8470757603645325,\n",
              "  0.8602588772773743,\n",
              "  0.8693671822547913,\n",
              "  0.8827900290489197,\n",
              "  0.8849472403526306,\n",
              "  0.8923777341842651,\n",
              "  0.8957334756851196,\n",
              "  0.931208074092865,\n",
              "  0.9506232142448425,\n",
              "  0.956136167049408,\n",
              "  0.9563758373260498,\n",
              "  0.9666826725006104,\n",
              "  0.9743528366088867,\n",
              "  0.9791467189788818,\n",
              "  0.9805848598480225,\n",
              "  0.9858580827713013,\n",
              "  0.9860978126525879,\n",
              "  0.9853787422180176],\n",
              " 'loss': [0.5714946985244751,\n",
              "  0.46246597170829773,\n",
              "  0.441209614276886,\n",
              "  0.4291095435619354,\n",
              "  0.38798269629478455,\n",
              "  0.38176488876342773,\n",
              "  0.36568325757980347,\n",
              "  0.3420748710632324,\n",
              "  0.32790079712867737,\n",
              "  0.3139875531196594,\n",
              "  0.2856723666191101,\n",
              "  0.27754274010658264,\n",
              "  0.2614813446998596,\n",
              "  0.2615586817264557,\n",
              "  0.17678984999656677,\n",
              "  0.13498206436634064,\n",
              "  0.11634202301502228,\n",
              "  0.11340871453285217,\n",
              "  0.09154970943927765,\n",
              "  0.06998928636312485,\n",
              "  0.05922307074069977,\n",
              "  0.05145863816142082,\n",
              "  0.04300691932439804,\n",
              "  0.04522182419896126,\n",
              "  0.043248604983091354],\n",
              " 'lr': [0.001,\n",
              "  0.001,\n",
              "  0.001,\n",
              "  0.001,\n",
              "  0.001,\n",
              "  0.001,\n",
              "  0.001,\n",
              "  0.001,\n",
              "  0.001,\n",
              "  0.001,\n",
              "  0.001,\n",
              "  0.001,\n",
              "  0.001,\n",
              "  0.001,\n",
              "  0.0003,\n",
              "  0.0003,\n",
              "  0.0003,\n",
              "  0.0003,\n",
              "  9e-05,\n",
              "  9e-05,\n",
              "  9e-05,\n",
              "  2.7e-05,\n",
              "  2.7e-05,\n",
              "  2.7e-05,\n",
              "  8.1e-06],\n",
              " 'val_accuracy': [0.43007662892341614,\n",
              "  0.39942529797554016,\n",
              "  0.5526819825172424,\n",
              "  0.734674334526062,\n",
              "  0.7681992053985596,\n",
              "  0.7643678188323975,\n",
              "  0.6743295192718506,\n",
              "  0.7892720103263855,\n",
              "  0.7892720103263855,\n",
              "  0.790229856967926,\n",
              "  0.7921456098556519,\n",
              "  0.748084306716919,\n",
              "  0.7461685538291931,\n",
              "  0.6858237385749817,\n",
              "  0.8256704807281494,\n",
              "  0.8045976758003235,\n",
              "  0.8362069129943848,\n",
              "  0.7614942789077759,\n",
              "  0.8026819825172424,\n",
              "  0.8314176201820374,\n",
              "  0.8314176201820374,\n",
              "  0.8323754668235779,\n",
              "  0.8247126340866089,\n",
              "  0.8295019268989563,\n",
              "  0.8295019268989563],\n",
              " 'val_categorical_accuracy': [0.43007662892341614,\n",
              "  0.39942529797554016,\n",
              "  0.5526819825172424,\n",
              "  0.734674334526062,\n",
              "  0.7681992053985596,\n",
              "  0.7643678188323975,\n",
              "  0.6743295192718506,\n",
              "  0.7892720103263855,\n",
              "  0.7892720103263855,\n",
              "  0.790229856967926,\n",
              "  0.7921456098556519,\n",
              "  0.748084306716919,\n",
              "  0.7461685538291931,\n",
              "  0.6858237385749817,\n",
              "  0.8256704807281494,\n",
              "  0.8045976758003235,\n",
              "  0.8362069129943848,\n",
              "  0.7614942789077759,\n",
              "  0.8026819825172424,\n",
              "  0.8314176201820374,\n",
              "  0.8314176201820374,\n",
              "  0.8323754668235779,\n",
              "  0.8247126340866089,\n",
              "  0.8295019268989563,\n",
              "  0.8295019268989563],\n",
              " 'val_loss': [13.137252807617188,\n",
              "  6.73585319519043,\n",
              "  3.753556489944458,\n",
              "  1.2202491760253906,\n",
              "  1.0446151494979858,\n",
              "  0.9309121370315552,\n",
              "  1.913474202156067,\n",
              "  0.709077000617981,\n",
              "  0.7041842341423035,\n",
              "  0.7135924100875854,\n",
              "  0.6552190184593201,\n",
              "  1.0226151943206787,\n",
              "  1.5768200159072876,\n",
              "  1.003938913345337,\n",
              "  0.5491766333580017,\n",
              "  0.6024162173271179,\n",
              "  0.6841049790382385,\n",
              "  0.9020970463752747,\n",
              "  0.777273952960968,\n",
              "  0.6921225190162659,\n",
              "  0.7144045829772949,\n",
              "  0.7464357614517212,\n",
              "  0.7761824727058411,\n",
              "  0.7980675101280212,\n",
              "  0.8174208402633667]}"
            ]
          },
          "metadata": {
            "tags": []
          },
          "execution_count": 25
        }
      ]
    }
  ]
}